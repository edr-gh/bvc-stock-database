{
 "cells": [
  {
   "cell_type": "markdown",
   "metadata": {},
   "source": [
    "# BVC Stocks database\n",
    "La idea de este proyecto es crear una base de datos que almacene el precio de las acciones que cotizan en la bolsa de valores de Colombia (BVC) tanto del mercado local como  del mercado global colombiano."
   ]
  },
  {
   "cell_type": "code",
   "execution_count": null,
   "metadata": {},
   "outputs": [],
   "source": [
    "# Carga de librerias\n",
    "import pandas as pd\n",
    "import sqlite3\n",
    "import os\n",
    "import time\n",
    "import schedule\n",
    "from datetime import datetime\n",
    "from selenium import webdriver\n",
    "from selenium.webdriver.common.by import By"
   ]
  },
  {
   "cell_type": "code",
   "execution_count": null,
   "metadata": {},
   "outputs": [],
   "source": [
    "# Preferencias de navegador para mercado local\n",
    "download_dir_ml = os.path.join(os.getcwd(),\"datos_ml\")\n",
    "opciones_ml = webdriver.EdgeOptions()\n",
    "prefs_ml = {\"download.default_directory\":download_dir_ml}\n",
    "opciones_ml.add_experimental_option(\"prefs\",prefs_ml)"
   ]
  },
  {
   "cell_type": "code",
   "execution_count": null,
   "metadata": {},
   "outputs": [],
   "source": [
    "# Direcciones\n",
    "\n",
    "ml =\"https://www.bvc.com.co/mercado-local-en-linea?tab=renta-variable_mercado-local\"\n",
    "mgc = \"https://www.bvc.com.co/mercado-local-en-linea?tab=renta-variable_mercado-global-colombiano\"\n",
    "\n",
    "# Fecha actual y formato del archivo\n",
    "ahora = datetime.now()\n",
    "    \n",
    "year = ahora.year\n",
    "\n",
    "if ahora.month<10:\n",
    "    month=f\"0{ahora.month}\"\n",
    "else:\n",
    "    month = ahora.month\n",
    "\n",
    "if ahora.day<10:\n",
    "    day=f\"0{ahora.day}\"\n",
    "else:\n",
    "    day = ahora.day\n",
    "\n",
    "nombre_ml = f\"RVLocal_{year}{month}{day}.csv\"\n",
    "nombre_mgc = f\"RVMGC_{year}{month}{day}.csv\""
   ]
  },
  {
   "cell_type": "code",
   "execution_count": null,
   "metadata": {},
   "outputs": [],
   "source": [
    "# Descarga del archivo del mercado local (ml)\n",
    "\n",
    "def download_ml():\n",
    "    try:\n",
    "        driver_ml = webdriver.Edge(options=opciones_ml)\n",
    "        driver_ml.get(ml)\n",
    "        \n",
    "        time.sleep(10)\n",
    "\n",
    "        download_button_ml = driver_ml.find_element(by=By.XPATH, value='//*[@id=\"__next\"]/div/div[3]/div[2]/div[1]/div[2]/div[2]/div/div/div[2]/div[2]/div/div/section/div[5]/div[2]/div/button')\n",
    "        download_button_ml.click()\n",
    "\n",
    "        time.sleep(10)\n",
    "\n",
    "        if os.path.exists(os.path.join(download_dir_ml,nombre_ml)):\n",
    "            print(\"El archivo de Mercado Local se ha descargado correctamente.\")\n",
    "        else:\n",
    "            print(\"El archivo de Mercado Local no se ha descargado correctamente.\")\n",
    "\n",
    "\n",
    "    except:\n",
    "        print(\"No se ha podido descargar el archivo, revise si hoy es día festivo.\")\n",
    "\n",
    "    else:\n",
    "        weekdays = [\"Lunes\",\"Martes\",\"Miércoles\",\"Jueves\",\"Viernes\",\"Sábado\",\"Domingo\"]\n",
    "        dia = weekdays[ahora.weekday()]\n",
    "        if dia ==\"Sábado\" or dia ==\"Domingo\":\n",
    "            print(f\"Hoy es {dia}, no es dia hábil, por tanto no puede descargar el archivo.\")\n",
    "        \n",
    "\n",
    "    finally:\n",
    "        driver_ml.quit()\n",
    "\n",
    "download_ml()"
   ]
  },
  {
   "cell_type": "code",
   "execution_count": null,
   "metadata": {},
   "outputs": [],
   "source": [
    "# El siguiente bloque permite programar la descarga del archivo del mercado local a las 5:00 p.m (1 hora después del cierre del mercado)\n",
    "# para correr este bloque se debe comentar o eliminar la última linea del bloque anterior\n",
    "# y descomentar el que se encuentra aqui abajo.\n",
    "\n",
    "\"\"\" \n",
    "schedule.every().day.at(\"17:00\").do(download_ml)\n",
    "\n",
    "while True:\n",
    "    schedule.run_pending()\n",
    "    time.sleep(1) \n",
    "\"\"\""
   ]
  },
  {
   "cell_type": "code",
   "execution_count": null,
   "metadata": {},
   "outputs": [],
   "source": [
    "# Preferencias del navegador para mercado global colombiano\n",
    "download_dir_mgc = os.path.join(os.getcwd(),\"datos_mgc\")\n",
    "opciones_mgc = webdriver.EdgeOptions()\n",
    "prefs_mgc = {\"download.default_directory\":download_dir_mgc}\n",
    "opciones_mgc.add_experimental_option(\"prefs\",prefs_mgc)"
   ]
  },
  {
   "cell_type": "code",
   "execution_count": null,
   "metadata": {},
   "outputs": [],
   "source": [
    "# Descarga del archivo del mercado global colombiano (mgc)\n",
    "\n",
    "def download_mgc():\n",
    "\n",
    "    try:\n",
    "        driver_mgc = webdriver.Edge(options=opciones_mgc)\n",
    "        driver_mgc.get(mgc)\n",
    "        \n",
    "        time.sleep(10)\n",
    "\n",
    "        download_button_mgc = driver_mgc.find_element(by=By.XPATH, value='//*[@id=\"__next\"]/div/div[3]/div[2]/div[1]/div[2]/div[2]/div/div/div[2]/div[2]/div/div/section/div[5]/div[2]/div/button')\n",
    "        download_button_mgc.click()\n",
    "\n",
    "        time.sleep(10)\n",
    "\n",
    "        if os.path.exists(os.path.join(download_dir_mgc,nombre_mgc)):\n",
    "            print(\"El archivo de Mercado Local se ha descargado correctamente.\")\n",
    "        else:\n",
    "            print(\"El archivo de Mercado Local no se ha descargado correctamente.\")\n",
    "\n",
    "\n",
    "    except:\n",
    "        print(\"No se ha podido descargar el archivo, revise si hoy es día festivo.\")\n",
    "\n",
    "    else:\n",
    "        weekdays = [\"Lunes\",\"Martes\",\"Miércoles\",\"Jueves\",\"Viernes\",\"Sábado\",\"Domingo\"]\n",
    "        dia = weekdays[ahora.weekday()]\n",
    "        if dia ==\"Sábado\" or dia ==\"Domingo\":\n",
    "            print(f\"Hoy es {dia}, no es dia hábil, por tanto no puede descargar el archivo.\")\n",
    "        \n",
    "\n",
    "    finally:\n",
    "        driver_mgc.quit()\n",
    "        \n",
    "download_mgc()"
   ]
  },
  {
   "cell_type": "code",
   "execution_count": null,
   "metadata": {},
   "outputs": [],
   "source": [
    "# Igualmente pueden programar la descarga del archivo del mercado global a las 5:00 p.m (1 hora después del cierre del mercado)\n",
    "# con este bloque de código pero se debe comentar o eliminar la última linea del bloque anterior \n",
    "# y quitar el comentario del bloque de código que ven aquí abajo.\n",
    "\n",
    "\"\"\" \n",
    "schedule.every().day.at(\"17:00\").do(download_mgc)\n",
    "\n",
    "while True:\n",
    "    schedule.run_pending()\n",
    "    time.sleep(1) \n",
    "\"\"\""
   ]
  },
  {
   "cell_type": "code",
   "execution_count": null,
   "metadata": {},
   "outputs": [],
   "source": [
    "## Procesar los datos del archivo csv del mercado local en un dataframe\n",
    "df_ml = pd.read_csv(\n",
    "    filepath_or_buffer=os.path.join(download_dir_ml,nombre_ml),\n",
    "    sep=\";\",encoding=\"utf-8\",na_values=\"-\", header=None,skiprows=1, decimal=\",\",\n",
    "    names=[\n",
    "        \"Nemotécnico\",\"Último_precio\",\"Variación_porcentual\",\"Volúmenes\",\"Cantidad\",\n",
    "        \"Variación_absoluta\",\"Precio_apertura\",\"Precio_máximo\",\"Precio_mínimo\",\"Precio_promedio\",\"Emisor\"],\n",
    "        usecols=[i for i in range(11)])\n",
    "df_ml[\"Fecha\"] = f\"{ahora.day}/{month}/{year}\"\n",
    "df_ml.head()"
   ]
  },
  {
   "cell_type": "code",
   "execution_count": null,
   "metadata": {},
   "outputs": [],
   "source": [
    "# Procesando los datos del archivo csv del mercado global colombiano en un dataframe\n",
    "df_mgc = pd.read_csv(filepath_or_buffer=os.path.join(download_dir_mgc,nombre_mgc),\n",
    "                     sep=\";\", encoding=\"utf-8\", na_values=\"-\", header=None, skiprows=1, decimal=\",\",\n",
    "                     names=[\"Nemotécnico\",\"Último_precio\",\"Variación_porcentual\",\"Volúmenes\",\"Cantidad\",\"Variación_absoluta\",\"Emisor\"],\n",
    "                     usecols=[i for i in range(7)])\n",
    "df_mgc[\"Fecha\"]=f\"{ahora.day}/{month}/{year}\"\n",
    "df_mgc.head()"
   ]
  },
  {
   "cell_type": "code",
   "execution_count": null,
   "metadata": {},
   "outputs": [],
   "source": [
    "## Creando la base de datos\n",
    "\n",
    "connection = sqlite3.connect(\"stock_prices.db\")\n",
    "\n",
    "cursor = connection.cursor()\n",
    "\n",
    "# Creado la tabla mercado_local\n",
    "cursor.execute(\"\"\"\n",
    "    CREATE TABLE IF NOT EXISTS mercado_local (\n",
    "    id INTEGER PRIMARY KEY AUTOINCREMENT NOT NULL,\n",
    "    Nemotécnico TEXT NOT NULL,\n",
    "    Último_precio REAL,\n",
    "    Variación_porcentual REAL,\n",
    "    Volúmenes REAL,\n",
    "    Cantidad REAL,\n",
    "    Variación_absoluta REAL,\n",
    "    Precio_apertura REAL,\n",
    "    Precio_máximo REAL,\n",
    "    Precio_mínimo REAL,\n",
    "    Precio_promedio REAL,\n",
    "    Emisor TEXT,\n",
    "    Fecha TEXT);\n",
    "    \n",
    "\"\"\")\n",
    "\n",
    "connection.commit()\n",
    "\n",
    "connection.close()"
   ]
  },
  {
   "cell_type": "code",
   "execution_count": null,
   "metadata": {},
   "outputs": [],
   "source": [
    "# Creando la tabla mercado_global_colombiano\n",
    "connection = sqlite3.connect(\"stock_prices.db\")\n",
    "cursor = connection.cursor()\n",
    "cursor.execute(\"\"\"\n",
    "    CREATE TABLE IF NOT EXISTS mercado_global_colombiano(\n",
    "    id INTEGER PRIMARY KEY AUTOINCREMENT NOT NULL,\n",
    "    Nemotécnico TEXT NOT NULL,\n",
    "    Último_precio REAL,\n",
    "    Variación_porcentual REAL,\n",
    "    Volúmenes REAL,\n",
    "    Cantidad REAL,\n",
    "    Variación_absoluta REAL,\n",
    "    Emisor TEXT,\n",
    "    Fecha TEXT);\"\"\"\n",
    ")\n",
    "\n",
    "connection.commit()\n",
    "connection.close()"
   ]
  },
  {
   "cell_type": "code",
   "execution_count": null,
   "metadata": {},
   "outputs": [],
   "source": [
    "# Cargando los datos en la base de datos (mercado local)\n",
    "conn = sqlite3.connect(\"stock_prices.db\")\n",
    "df_ml.to_sql(name=\"mercado_local\",con=conn,if_exists=\"append\",index=False)\n",
    "\n",
    "conn.close()"
   ]
  },
  {
   "cell_type": "code",
   "execution_count": null,
   "metadata": {},
   "outputs": [],
   "source": [
    "# Cargando los datos en la base de datos (mercado global colombiano)\n",
    "conn = sqlite3.connect(\"stock_prices.db\")\n",
    "df_mgc.to_sql(name=\"mercado_global_colombiano\",con=conn,if_exists=\"append\",index=False)\n",
    "\n",
    "conn.close()"
   ]
  },
  {
   "cell_type": "code",
   "execution_count": null,
   "metadata": {},
   "outputs": [],
   "source": [
    "# Verificando los datos cargados en la base de datos (mercado local)\n",
    "connection = sqlite3.connect(\"stock_prices.db\")\n",
    "\n",
    "cursor = connection.cursor()\n",
    "\n",
    "cursor.execute(\"SELECT * FROM mercado_local LIMIT 5\")\n",
    "\n",
    "resultados = cursor.fetchall()\n",
    "\n",
    "columnas = [name[0] for name in cursor.description]\n",
    "\n",
    "print(columnas)\n",
    "for fila in resultados:\n",
    "    print(fila)\n",
    "    \n",
    "cursor.close()\n",
    "connection.close()"
   ]
  },
  {
   "cell_type": "code",
   "execution_count": null,
   "metadata": {},
   "outputs": [],
   "source": [
    "# Verificando los datos cargados en la base de datos (mercado global colombiano)\n",
    "connection = sqlite3.connect(\"stock_prices.db\")\n",
    "\n",
    "cursor = connection.cursor()\n",
    "\n",
    "cursor.execute(\"SELECT * FROM mercado_global_colombiano LIMIT 5\")\n",
    "\n",
    "resultados = cursor.fetchall()\n",
    "\n",
    "columnas = [name[0] for name in cursor.description]\n",
    "\n",
    "print(columnas)\n",
    "for fila in resultados:\n",
    "    print(fila)\n",
    "    \n",
    "cursor.close()\n",
    "connection.close()"
   ]
  },
  {
   "cell_type": "markdown",
   "metadata": {},
   "source": [
    "## Nota\n",
    "He dejado dos bloques para automatizar la descarga todos los días a las 5 de la tarde (1 hora después del cierre del mercado) pero se debe se debe tener en cuenta que si el notebook se cierra, el proceso se detiene por lo cual si desean usarlos deben tener alguna forma de mantener el notebook abierto."
   ]
  }
 ],
 "metadata": {
  "kernelspec": {
   "display_name": "Python 3",
   "language": "python",
   "name": "python3"
  },
  "language_info": {
   "codemirror_mode": {
    "name": "ipython",
    "version": 3
   },
   "file_extension": ".py",
   "mimetype": "text/x-python",
   "name": "python",
   "nbconvert_exporter": "python",
   "pygments_lexer": "ipython3",
   "version": "3.12.0"
  }
 },
 "nbformat": 4,
 "nbformat_minor": 2
}
